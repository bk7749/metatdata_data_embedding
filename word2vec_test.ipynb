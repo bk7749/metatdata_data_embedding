{
 "cells": [
  {
   "cell_type": "code",
   "execution_count": 1,
   "metadata": {
    "collapsed": true
   },
   "outputs": [],
   "source": [
    "# Copyright 2015 Google Inc. All Rights Reserved.\n",
    "#\n",
    "# Licensed under the Apache License, Version 2.0 (the \"License\");\n",
    "# you may not use this file except in compliance with the License.\n",
    "# You may obtain a copy of the License at\n",
    "#\n",
    "#     http://www.apache.org/licenses/LICENSE-2.0\n",
    "#\n",
    "# Unless required by applicable law or agreed to in writing, software\n",
    "# distributed under the License is distributed on an \"AS IS\" BASIS,\n",
    "# WITHOUT WARRANTIES OR CONDITIONS OF ANY KIND, either express or implied.\n",
    "# See the License for the specific language governing permissions and\n",
    "# limitations under the License.\n",
    "# ==============================================================================\n",
    "\n",
    "from __future__ import absolute_import\n",
    "from __future__ import print_function\n",
    "\n",
    "import collections\n",
    "import math\n",
    "import os\n",
    "import random\n",
    "import zipfile\n",
    "import pickle\n",
    "\n",
    "import numpy as np\n",
    "from six.moves import urllib\n",
    "from six.moves import xrange  # pylint: disable=redefined-builtin\n",
    "import tensorflow as tf\n",
    "import shelve\n",
    "import re\n",
    "\n",
    "from scipy import spatial"
   ]
  },
  {
   "cell_type": "code",
   "execution_count": 2,
   "metadata": {
    "collapsed": false
   },
   "outputs": [
    {
     "name": "stdout",
     "output_type": "stream",
     "text": [
      "Found and verified text8.zip\n"
     ]
    }
   ],
   "source": [
    "# Step 1: Download the data.\n",
    "url = 'http://mattmahoney.net/dc/'\n",
    "\n",
    "def maybe_download(filename, expected_bytes):\n",
    "    \"\"\"Download a file if not present, and make sure it's the right size.\"\"\"\n",
    "    if not os.path.exists(filename):\n",
    "        filename, _ = urllib.request.urlretrieve(url + filename, filename)\n",
    "    statinfo = os.stat(filename)\n",
    "    if statinfo.st_size == expected_bytes:\n",
    "        print('Found and verified', filename)\n",
    "    else:\n",
    "        print(statinfo.st_size)\n",
    "        raise Exception(\n",
    "            'Failed to verify ' + filename + '. Can you get to it with a browser?')\n",
    "    return filename\n",
    "\n",
    "filename = maybe_download('text8.zip', 31344016)"
   ]
  },
  {
   "cell_type": "code",
   "execution_count": 3,
   "metadata": {
    "collapsed": false
   },
   "outputs": [
    {
     "name": "stdout",
     "output_type": "stream",
     "text": [
      "Data size 17005207\n"
     ]
    }
   ],
   "source": [
    "# Read the data into a list of strings.\n",
    "def read_data(filename):\n",
    "    \"\"\"Extract the first file enclosed in a zip file as a list of words\"\"\"\n",
    "    with zipfile.ZipFile(filename) as f:\n",
    "        data = f.read(f.namelist()[0]).split()\n",
    "    return data\n",
    "\n",
    "words = read_data(filename)\n",
    "print('Data size', len(words))"
   ]
  },
  {
   "cell_type": "code",
   "execution_count": 4,
   "metadata": {
    "collapsed": false
   },
   "outputs": [],
   "source": [
    "sensor_dict = shelve.open('metadata/bacnet_devices.shelve','r')\n",
    "buildingName = 'ebu3b'\n",
    "naeDict = dict()\n",
    "naeDict['bonner'] = [\"607\", \"608\", \"609\", \"557\", \"610\"]\n",
    "naeDict['ap_m'] = ['514', '513','604']\n",
    "naeDict['bsb'] = ['519', '568', '567', '566', '564', '565']\n",
    "naeDict['ebu3b'] = [\"505\", \"506\"]\n",
    "naeList = naeDict[buildingName]\n",
    "wordList = list()\n",
    "\n",
    "tokenType = 'Alphanumeric'\n",
    "tokenTypeList = ['NoNumber', 'Alphanumeric', 'AlphaAndNum', 'NumAsSingleWord']\n",
    "\n",
    "for nae in naeList:\n",
    "    device = sensor_dict[nae]\n",
    "    h_dev = device['props']\n",
    "    for sensor in device['objs']:\n",
    "        h_obj = sensor['props']\n",
    "        source_id = str(h_dev['device_id']) + '_' + str(h_obj['type']) + '_' + str(h_obj['instance'])\n",
    "        #if h_obj['type'] not in (0,1,2,3,4,5,13,14,19):\n",
    "        #    continue\n",
    "        \n",
    "        #create individual lists\n",
    "        #jciList = ['jciname_'+val for val in re.findall(\"[a-zA-Z]+|\\d+\", sensor['jci_name'])]\n",
    "        #nameList = ['name_'+val for val in re.findall(\"[a-zA-Z]+|\\d+\", sensor['name'])]\n",
    "        #descList = ['desc_'+val for val in re.findall(\"[a-zA-Z]+|\\d+\", sensor['desc'])]\n",
    "        if tokenType=='Alphanumeric':\n",
    "            jciList = re.findall(\"\\w+\", sensor['jci_name'])\n",
    "            nameList = re.findall(\"\\w+\", sensor['name'])\n",
    "            descList = re.findall(\"\\w+\", sensor['desc'])\n",
    "        elif tokenType in ['AlphaAndNum', 'NumAsSingleWord']:\n",
    "            jciList = re.findall(\"[a-zA-Z]+|\\d+\", sensor['jci_name'])\n",
    "            nameList = re.findall(\"[a-zA-Z]+|\\d+\", sensor['name'])\n",
    "            descList = re.findall(\"[a-zA-Z]+|\\d+\", sensor['desc'])\n",
    "        elif tokenType=='NoNumber':\n",
    "            jciList = re.findall(\"[a-zA-Z]+|\\d+\", sensor['jci_name'])\n",
    "            nameList = re.findall(\"[a-zA-Z]+|\\d+\", sensor['name'])\n",
    "            descList =re.findall(\"[a-zA-Z]+|\\d+\", sensor['desc'])        \n",
    "        else:\n",
    "            assert(False)\n",
    "        \n",
    "        localList =  jciList + ['DOT'] + nameList + ['DOT'] + descList + ['\\n']  \n",
    "        if tokenType=='NumAsSingleWord':\n",
    "            localList = ['NUM' if len(re.findall('\\d+',word))>0 else word for word in localList]\n",
    "        wordList = wordList + localList\n",
    "        \n",
    "words = wordList"
   ]
  },
  {
   "cell_type": "code",
   "execution_count": 5,
   "metadata": {
    "collapsed": false
   },
   "outputs": [],
   "source": [
    "b = collections.Counter(words)"
   ]
  },
  {
   "cell_type": "code",
   "execution_count": 6,
   "metadata": {
    "collapsed": false
   },
   "outputs": [
    {
     "name": "stdout",
     "output_type": "stream",
     "text": [
      "1107\n",
      "Most common words (+UNK) [['UNK', 1], ('DOT', 10040), ('\\n', 5020), ('NAE', 5006), ('N2', 4842)]\n",
      "Sample data [3, 10, 5, 1, 3, 10, 1, 983, 920, 989]\n"
     ]
    }
   ],
   "source": [
    "# Step 2: Build the dictionary and replace rare words with UNK token.\n",
    "vocabulary_size = len(b.keys())\n",
    "print(vocabulary_size)\n",
    "\n",
    "def build_dataset(words):\n",
    "    count = [['UNK', -1]]\n",
    "    count.extend(collections.Counter(words).most_common(vocabulary_size - 1))\n",
    "    dictionary = dict()\n",
    "    for word, _ in count:\n",
    "        dictionary[word] = len(dictionary)\n",
    "    data = list()\n",
    "    unk_count = 0\n",
    "    for word in words:\n",
    "        if word in dictionary:\n",
    "            index = dictionary[word]\n",
    "        else:\n",
    "            index = 0  # dictionary['UNK']\n",
    "            unk_count += 1\n",
    "        data.append(index)\n",
    "    count[0][1] = unk_count\n",
    "    reverse_dictionary = dict(zip(dictionary.values(), dictionary.keys()))\n",
    "    return data, count, dictionary, reverse_dictionary\n",
    "\n",
    "data, count, dictionary, reverse_dictionary = build_dataset(words)\n",
    "del words  # Hint to reduce memory.\n",
    "print('Most common words (+UNK)', count[:5])\n",
    "print('Sample data', data[:10])\n",
    "\n",
    "data_index = 0"
   ]
  },
  {
   "cell_type": "code",
   "execution_count": 7,
   "metadata": {
    "collapsed": false
   },
   "outputs": [
    {
     "name": "stdout",
     "output_type": "stream",
     "text": [
      "False\n"
     ]
    }
   ],
   "source": [
    "print('EBU3B' in count)"
   ]
  },
  {
   "cell_type": "code",
   "execution_count": 8,
   "metadata": {
    "collapsed": false
   },
   "outputs": [
    {
     "name": "stdout",
     "output_type": "stream",
     "text": [
      "10 -> 3\n",
      "05 -> NAE\n",
      "10 -> 5\n",
      "05 -> EBU3B\n",
      "5 -> 10\n",
      "EBU3B -> 05\n",
      "5 -> 1\n",
      "EBU3B -> DOT\n",
      "1 -> 5\n",
      "DOT -> EBU3B\n",
      "1 -> 3\n",
      "DOT -> NAE\n",
      "3 -> 1\n",
      "NAE -> DOT\n",
      "3 -> 10\n",
      "NAE -> 05\n"
     ]
    }
   ],
   "source": [
    "# Step 3: Function to generate a training batch for the skip-gram model.\n",
    "def generate_batch(batch_size, num_skips, skip_window):\n",
    "    global data_index\n",
    "    assert batch_size % num_skips == 0\n",
    "    assert num_skips <= 2 * skip_window\n",
    "    batch = np.ndarray(shape=(batch_size), dtype=np.int32)\n",
    "    labels = np.ndarray(shape=(batch_size, 1), dtype=np.int32)\n",
    "    span = 2 * skip_window + 1 # [ skip_window target skip_window ]\n",
    "    buffer = collections.deque(maxlen=span)\n",
    "    for _ in range(span):\n",
    "        buffer.append(data[data_index])\n",
    "        data_index = (data_index + 1) % len(data)\n",
    "    for i in range(batch_size // num_skips):\n",
    "        target = skip_window  # target label at the center of the buffer\n",
    "        targets_to_avoid = [ skip_window ]\n",
    "        for j in range(num_skips):\n",
    "            while target in targets_to_avoid:\n",
    "                target = random.randint(0, span - 1)\n",
    "            targets_to_avoid.append(target)\n",
    "            batch[i * num_skips + j] = buffer[skip_window]\n",
    "            labels[i * num_skips + j, 0] = buffer[target]\n",
    "        buffer.append(data[data_index])\n",
    "        data_index = (data_index + 1) % len(data)\n",
    "    return batch, labels\n",
    "\n",
    "batch, labels = generate_batch(batch_size=8, num_skips=2, skip_window=1)\n",
    "for i in range(8):\n",
    "    print(batch[i], '->', labels[i, 0])\n",
    "    print(reverse_dictionary[batch[i]], '->', reverse_dictionary[labels[i, 0]])"
   ]
  },
  {
   "cell_type": "code",
   "execution_count": null,
   "metadata": {
    "collapsed": true
   },
   "outputs": [],
   "source": [
    "# Step 4: Build and train a skip-gram model.\n",
    "\n",
    "batch_size = 128\n",
    "#embedding_size = 128  # Dimension of the embedding vector.\n",
    "embedding_size = 64  # Dimension of the embedding vector.\n",
    "skip_window = 1       # How many words to consider left and right.\n",
    "num_skips = 2         # How many times to reuse an input to generate a label.\n",
    "\n",
    "# We pick a random validation set to sample nearest neighbors. Here we limit the\n",
    "# validation samples to the words that have a low numeric ID, which by\n",
    "# construction are also the most frequent.\n",
    "valid_size = 16     # Random set of words to evaluate similarity on.\n",
    "valid_window = 100  # Only pick dev samples in the head of the distribution.\n",
    "valid_examples = np.random.choice(valid_window, valid_size, replace=False)\n",
    "num_sampled = 64    # Number of negative examples to sample.\n",
    "\n",
    "graph = tf.Graph()\n",
    "\n",
    "with graph.as_default():\n",
    "\n",
    "    # Input data. q\n",
    "    train_inputs = tf.placeholder(tf.int32, shape=[batch_size])\n",
    "    train_labels = tf.placeholder(tf.int32, shape=[batch_size, 1])\n",
    "    valid_dataset = tf.constant(valid_examples, dtype=tf.int32)\n",
    "\n",
    "    # Ops and variables pinned to the CPU because of missing GPU implementation\n",
    "    with tf.device('/cpu:0'):\n",
    "    # Look up embeddings for inputs.\n",
    "        embeddings = tf.Variable(\n",
    "            tf.random_uniform([vocabulary_size, embedding_size], -1.0, 1.0))\n",
    "        embed = tf.nn.embedding_lookup(embeddings, train_inputs)\n",
    "\n",
    "    # Construct the variables for the NCE loss\n",
    "        nce_weights = tf.Variable(\n",
    "            tf.truncated_normal([vocabulary_size, embedding_size],\n",
    "                            stddev=1.0 / math.sqrt(embedding_size)))\n",
    "        nce_biases = tf.Variable(tf.zeros([vocabulary_size]))\n",
    "\n",
    "    # Compute the average NCE loss for the batch.\n",
    "    # tf.nce_loss automatically draws a new sample of the negative labels each\n",
    "    # time we evaluate the loss.\n",
    "    loss = tf.reduce_mean(\n",
    "        tf.nn.nce_loss(nce_weights, nce_biases, embed, train_labels,\n",
    "                     num_sampled, vocabulary_size))\n",
    "\n",
    "    # Construct the SGD optimizer using a learning rate of 1.0.\n",
    "    optimizer = tf.train.GradientDescentOptimizer(1.0).minimize(loss)\n",
    "\n",
    "    # Compute the cosine similarity between minibatch examples and all embeddings.\n",
    "    norm = tf.sqrt(tf.reduce_sum(tf.square(embeddings), 1, keep_dims=True))\n",
    "    normalized_embeddings = embeddings / norm\n",
    "    valid_embeddings = tf.nn.embedding_lookup(\n",
    "        normalized_embeddings, valid_dataset)\n",
    "    similarity = tf.matmul(\n",
    "        valid_embeddings, normalized_embeddings, transpose_b=True)"
   ]
  },
  {
   "cell_type": "code",
   "execution_count": null,
   "metadata": {
    "collapsed": false
   },
   "outputs": [
    {
     "name": "stdout",
     "output_type": "stream",
     "text": [
      "Initialized\n",
      "Average loss at step  0 :  156.658828735\n",
      "Nearest to CO2: 2138, VMA107, TEMP, Sen, Server, Cool, Activated, VMA172,\n",
      "Nearest to HTGPID: EXCHANGER, 3213, Floor, 21, FAULT, IN, OCC, rm,\n",
      "Nearest to FAN: 146, 3126, HW, HEATING, PM1TI, DHWS, Temps, 3220,\n",
      "Nearest to 161: 4128, VMA160, VMA102, Time, VMA151, VMA167, VMA157, 4207,\n",
      "Nearest to DMPR: HX1B, Sunbeams, 1150, EF4, 113, inUnocc, 1, HUBBS_WIND,\n",
      "Nearest to Occ: HUBBS_ENTHALPY, FSCHW, south, Tuning, B250, 4203, Trend2, OCCUPIED,\n",
      "Nearest to Shed: 127, Stages, Liquid, DO1, Air, 3106, VMA181, VMA108,\n",
      "Nearest to Occupied: Exchanger, HX, Average, inUnocc, Schedule, FREQ, EBU2_ZENITH, Cooling,\n",
      "Nearest to ADJ: 15, 1200C, STANDBY, 2118, SS, Loss, Maintenance, 4262,\n",
      "Nearest to Adjust: 160, 1126, 3219N, DC, VMA124, 3226, DO1, Zone,\n",
      "Nearest to Temperature: VND23, 142, HI, OCCSENS, Hubbs, ACC, VMA112, Exhaust,\n",
      "Nearest to DX: 1155, 4202, STATIC, Box, 1st, 4262, Basement, VMA177,\n",
      "Nearest to Cooling: OVRD, setpoint, SF1, CUR, DA1, 4138, Econ, Occupied,\n",
      "Nearest to Min: EBU2_ENTHALPY, Computer, DEHUMID, 1110, 1155, Fault, VMA147, B270,\n",
      "Nearest to Valve: Auto, 163, 2148, 3254, GAIN, COMPRES2, IT, STAGES,\n",
      "Nearest to 2: Hand, 3111, 26, VMA130, 3208, SUCTN, 4232, MTWS,\n",
      "Average loss at step  2000 :  6.12314681673\n",
      "Average loss at step "
     ]
    }
   ],
   "source": [
    "# Step 5: Begin training.\n",
    "num_steps = 100001\n",
    "\n",
    "with tf.Session(graph=graph) as session:\n",
    "    # We must initialize all variables before we use them.\n",
    "    tf.initialize_all_variables().run()\n",
    "    print(\"Initialized\")\n",
    "\n",
    "    average_loss = 0\n",
    "    for step in xrange(num_steps):\n",
    "        batch_inputs, batch_labels = generate_batch(\n",
    "            batch_size, num_skips, skip_window)\n",
    "        feed_dict = {train_inputs : batch_inputs, train_labels : batch_labels}\n",
    "\n",
    "    # We perform one update step by evaluating the optimizer op (including it\n",
    "    # in the list of returned values for session.run()\n",
    "        _, loss_val = session.run([optimizer, loss], feed_dict=feed_dict)\n",
    "        average_loss += loss_val\n",
    "\n",
    "        if step % 2000 == 0:\n",
    "            if step > 0:\n",
    "                average_loss /= 2000\n",
    "            # The average loss is an estimate of the loss over the last 2000 batches.\n",
    "            print(\"Average loss at step \", step, \": \", average_loss)\n",
    "            average_loss = 0\n",
    "\n",
    "    # Note that this is expensive (~20% slowdown if computed every 500 steps)\n",
    "        if step % 10000 == 0:\n",
    "            sim = similarity.eval()\n",
    "            for i in xrange(valid_size):\n",
    "                valid_word = reverse_dictionary[valid_examples[i]]\n",
    "                top_k = 8 # number of nearest neighbors\n",
    "                nearest = (-sim[i, :]).argsort()[1:top_k+1]\n",
    "                log_str = \"Nearest to %s:\" % valid_word\n",
    "                for k in xrange(top_k):\n",
    "                    close_word = reverse_dictionary[nearest[k]]\n",
    "                    log_str = \"%s %s,\" % (log_str, close_word)\n",
    "                print(log_str)\n",
    "    final_embeddings = normalized_embeddings.eval()"
   ]
  },
  {
   "cell_type": "code",
   "execution_count": null,
   "metadata": {
    "collapsed": false
   },
   "outputs": [],
   "source": [
    "# Step 6: Visualize the embeddings.\n",
    "\n",
    "def plot_with_labels(low_dim_embs, labels, filename='figs/embedding_'+buildingName+'_' + tokenType + '.png'):\n",
    "    assert low_dim_embs.shape[0] >= len(labels), \"More labels than embeddings\"\n",
    "    plt.figure(figsize=(18, 18))  #in inches\n",
    "    for i, label in enumerate(labels):\n",
    "        if label.lower()=='num':\n",
    "            c= 'red'\n",
    "            print(\"RED!!!!\")\n",
    "        else:\n",
    "            c = 'black'\n",
    "        x, y = low_dim_embs[i,:]\n",
    "        plt.scatter(x, y)\n",
    "        plt.annotate(label,\n",
    "                 xy=(x, y),\n",
    "                 xytext=(5, 2),\n",
    "                 textcoords='offset points',\n",
    "                 ha='right',\n",
    "                 va='bottom',\n",
    "                    color=c)\n",
    "\n",
    "    plt.savefig(filename)\n",
    "\n",
    "try:\n",
    "    #import matplotlib\n",
    "    #reload(matplotlib)\n",
    "    #matplotlib.use('Agg')\n",
    "    from sklearn.manifold import TSNE\n",
    "    import matplotlib.pyplot as plt\n",
    "    %matplotlib inline\n",
    "    \n",
    "\n",
    "    tsne = TSNE(perplexity=30, n_components=2, init='pca', n_iter=5000)\n",
    "    plot_only = vocabulary_size\n",
    "    low_dim_embs = tsne.fit_transform(final_embeddings[:plot_only,:])\n",
    "    labels = [reverse_dictionary[i] for i in xrange(plot_only)]\n",
    "    plot_with_labels(low_dim_embs, labels)\n",
    "    with open('data/embedding_'+buildingName+'_' + tokenType + '.pkl', 'wb') as fp:\n",
    "        pickle.dump([final_embeddings, dictionary, reverse_dictionary], fp)\n",
    "\n",
    "except ImportError:\n",
    "    print(\"Please install sklearn and matplotlib to visualize embeddings.\")"
   ]
  },
  {
   "cell_type": "code",
   "execution_count": null,
   "metadata": {
    "collapsed": true
   },
   "outputs": [],
   "source": []
  }
 ],
 "metadata": {
  "kernelspec": {
   "display_name": "Python 2",
   "language": "python",
   "name": "python2"
  },
  "language_info": {
   "codemirror_mode": {
    "name": "ipython",
    "version": 2
   },
   "file_extension": ".py",
   "mimetype": "text/x-python",
   "name": "python",
   "nbconvert_exporter": "python",
   "pygments_lexer": "ipython2",
   "version": "2.7.11"
  }
 },
 "nbformat": 4,
 "nbformat_minor": 0
}
